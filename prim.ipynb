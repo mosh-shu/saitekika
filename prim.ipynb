{
 "cells": [
  {
   "cell_type": "markdown",
   "metadata": {},
   "source": [
    "# 最適化の数理 最終課題\n",
    "## 最小スパニングツリー問題を用いた音楽ストリーミングサービスでの楽曲サジェスチョンサービス  \n",
    "プリムのアルゴリズムを使用. コストは楽曲間の「距離」. これは, 2つの楽曲をいいねしたユーザーの合計数 / どちらもいいねしたユーザーの数で定義する (レポート参照) "
   ]
  },
  {
   "cell_type": "markdown",
   "metadata": {},
   "source": [
    "## Set up"
   ]
  },
  {
   "cell_type": "code",
   "execution_count": 2,
   "metadata": {},
   "outputs": [],
   "source": [
    "import numpy as np"
   ]
  },
  {
   "cell_type": "markdown",
   "metadata": {},
   "source": [
    "## Define the graph"
   ]
  },
  {
   "cell_type": "code",
   "execution_count": 26,
   "metadata": {},
   "outputs": [],
   "source": [
    "V = [\"星空のディスタンス/THE ALFEE\", \"メリーアン/THE ALFEE\",\n",
    "     \"赤いスイートピー/松田聖子\", \"ファッションモンスター/きゃりーぱみゅぱみゅ\", \n",
    "     \"ポリリズム/PERFUME\", \"名もなき詩/Mr.Children\", \"honnoji/ZAZEN BOYS\",\n",
    "     \"ポテトサラダ/ZAZEN BOYS\"]\n",
    "songs = V\n",
    "totalGoods = [11000, 4445, 9798, 140000, 19000, 16000, 3699, 1732] # 再生数の合計数\n",
    "mutualGoods = [[0, 3000, 3000, 8000, 2000 , 8000 , 1000, 500 ],\n",
    "               [0, 0   , 3000, 3500, 2000 , 2500 , 500 , 300 ],\n",
    "               [0, 0   , 0   , 9000, 8000 , 8500 , 1000, 500 ],\n",
    "               [0, 0   , 0   , 0   , 15000, 10000, 2000, 1000],\n",
    "               [0, 0   , 0   , 0   , 0    , 10000, 1500, 800 ],\n",
    "               [0, 0   , 0   , 0   , 0    , 0    , 2000, 800 ],\n",
    "               [0, 0   , 0   , 0   , 0    , 0    , 0   , 1700],\n",
    "               [0, 0   , 0   , 0   , 0    , 0    , 0   , 0   ]] # 両方の曲を高評価した人の数\n",
    "distance = np.zeros((np.size(songs), np.size(songs))) # コスト配列を初期化\n",
    "E = [] \n",
    "for i in range(np.size(distance, 0)):\n",
    "    for j in range(np.size(distance, 1)):\n",
    "        if i < j:\n",
    "            # (1 / (どちらの曲も高評価した人数)) * 二つの曲の高評価の合計値\n",
    "            # これをnormFac で正規化\n",
    "#             dist = (1 / (mutualGoods[i][j])) * (totalGoods[i] + totalGoods[j])\n",
    "            dist = (1 / (mutualGoods[i][j])) * (totalGoods[i] * totalGoods[j])\n",
    "            E.append([songs[i], songs[j],dist])\n",
    "v0 = V[0]"
   ]
  },
  {
   "cell_type": "code",
   "execution_count": 27,
   "metadata": {
    "scrolled": false
   },
   "outputs": [
    {
     "data": {
      "text/plain": [
       "[['星空のディスタンス/THE ALFEE', 'メリーアン/THE ALFEE', 16298.333333333332],\n",
       " ['星空のディスタンス/THE ALFEE', '赤いスイートピー/松田聖子', 35926.0],\n",
       " ['星空のディスタンス/THE ALFEE', 'ファッションモンスター/きゃりーぱみゅぱみゅ', 192500.0],\n",
       " ['星空のディスタンス/THE ALFEE', 'ポリリズム/PERFUME', 104500.0],\n",
       " ['星空のディスタンス/THE ALFEE', '名もなき詩/Mr.Children', 22000.0],\n",
       " ['星空のディスタンス/THE ALFEE', 'honnoji/ZAZEN BOYS', 40689.0],\n",
       " ['星空のディスタンス/THE ALFEE', 'ポテトサラダ/ZAZEN BOYS', 38104.0],\n",
       " ['メリーアン/THE ALFEE', '赤いスイートピー/松田聖子', 14517.369999999999],\n",
       " ['メリーアン/THE ALFEE', 'ファッションモンスター/きゃりーぱみゅぱみゅ', 177800.0],\n",
       " ['メリーアン/THE ALFEE', 'ポリリズム/PERFUME', 42227.5],\n",
       " ['メリーアン/THE ALFEE', '名もなき詩/Mr.Children', 28448.0],\n",
       " ['メリーアン/THE ALFEE', 'honnoji/ZAZEN BOYS', 32884.11],\n",
       " ['メリーアン/THE ALFEE', 'ポテトサラダ/ZAZEN BOYS', 25662.466666666667],\n",
       " ['赤いスイートピー/松田聖子', 'ファッションモンスター/きゃりーぱみゅぱみゅ', 152413.33333333334],\n",
       " ['赤いスイートピー/松田聖子', 'ポリリズム/PERFUME', 23270.25],\n",
       " ['赤いスイートピー/松田聖子', '名もなき詩/Mr.Children', 18443.29411764706],\n",
       " ['赤いスイートピー/松田聖子', 'honnoji/ZAZEN BOYS', 36242.802],\n",
       " ['赤いスイートピー/松田聖子', 'ポテトサラダ/ZAZEN BOYS', 33940.272],\n",
       " ['ファッションモンスター/きゃりーぱみゅぱみゅ', 'ポリリズム/PERFUME', 177333.33333333334],\n",
       " ['ファッションモンスター/きゃりーぱみゅぱみゅ', '名もなき詩/Mr.Children', 224000.0],\n",
       " ['ファッションモンスター/きゃりーぱみゅぱみゅ', 'honnoji/ZAZEN BOYS', 258930.0],\n",
       " ['ファッションモンスター/きゃりーぱみゅぱみゅ', 'ポテトサラダ/ZAZEN BOYS', 242480.0],\n",
       " ['ポリリズム/PERFUME', '名もなき詩/Mr.Children', 30400.0],\n",
       " ['ポリリズム/PERFUME', 'honnoji/ZAZEN BOYS', 46854.0],\n",
       " ['ポリリズム/PERFUME', 'ポテトサラダ/ZAZEN BOYS', 41135.0],\n",
       " ['名もなき詩/Mr.Children', 'honnoji/ZAZEN BOYS', 29592.0],\n",
       " ['名もなき詩/Mr.Children', 'ポテトサラダ/ZAZEN BOYS', 34640.0],\n",
       " ['honnoji/ZAZEN BOYS', 'ポテトサラダ/ZAZEN BOYS', 3768.6282352941175]]"
      ]
     },
     "execution_count": 27,
     "metadata": {},
     "output_type": "execute_result"
    }
   ],
   "source": [
    "E"
   ]
  },
  {
   "cell_type": "markdown",
   "metadata": {},
   "source": [
    "## Initialize some values"
   ]
  },
  {
   "cell_type": "code",
   "execution_count": 28,
   "metadata": {},
   "outputs": [],
   "source": [
    "P = [v0] # 過去頂点の集合\n",
    "S = [] # 辺の部分集合\n",
    "W = 0 # 重みの総和"
   ]
  },
  {
   "cell_type": "markdown",
   "metadata": {},
   "source": [
    "## Main Loop"
   ]
  },
  {
   "cell_type": "code",
   "execution_count": 29,
   "metadata": {},
   "outputs": [
    {
     "name": "stdout",
     "output_type": "stream",
     "text": [
      "['星空のディスタンス/THE ALFEE']\n",
      "first half done\n",
      "[['星空のディスタンス/THE ALFEE', 'メリーアン/THE ALFEE', 16298.333333333332], ['星空のディスタンス/THE ALFEE', '赤いスイートピー/松田聖子', 35926.0], ['星空のディスタンス/THE ALFEE', 'ファッションモンスター/きゃりーぱみゅぱみゅ', 192500.0], ['星空のディスタンス/THE ALFEE', 'ポリリズム/PERFUME', 104500.0], ['星空のディスタンス/THE ALFEE', '名もなき詩/Mr.Children', 22000.0], ['星空のディスタンス/THE ALFEE', 'honnoji/ZAZEN BOYS', 40689.0], ['星空のディスタンス/THE ALFEE', 'ポテトサラダ/ZAZEN BOYS', 38104.0]]\n",
      "['星空のディスタンス/THE ALFEE', 'ポリリズム/PERFUME']\n",
      "first half done\n",
      "[['星空のディスタンス/THE ALFEE', 'メリーアン/THE ALFEE', 16298.333333333332], ['星空のディスタンス/THE ALFEE', '赤いスイートピー/松田聖子', 35926.0], ['星空のディスタンス/THE ALFEE', 'ファッションモンスター/きゃりーぱみゅぱみゅ', 192500.0], ['星空のディスタンス/THE ALFEE', '名もなき詩/Mr.Children', 22000.0], ['星空のディスタンス/THE ALFEE', 'honnoji/ZAZEN BOYS', 40689.0], ['星空のディスタンス/THE ALFEE', 'ポテトサラダ/ZAZEN BOYS', 38104.0], ['メリーアン/THE ALFEE', 'ポリリズム/PERFUME', 42227.5], ['赤いスイートピー/松田聖子', 'ポリリズム/PERFUME', 23270.25], ['ファッションモンスター/きゃりーぱみゅぱみゅ', 'ポリリズム/PERFUME', 177333.33333333334], ['ポリリズム/PERFUME', '名もなき詩/Mr.Children', 30400.0], ['ポリリズム/PERFUME', 'honnoji/ZAZEN BOYS', 46854.0], ['ポリリズム/PERFUME', 'ポテトサラダ/ZAZEN BOYS', 41135.0]]\n",
      "['星空のディスタンス/THE ALFEE', 'ポリリズム/PERFUME', 'メリーアン/THE ALFEE']\n",
      "first half done\n",
      "[['星空のディスタンス/THE ALFEE', '赤いスイートピー/松田聖子', 35926.0], ['星空のディスタンス/THE ALFEE', 'ファッションモンスター/きゃりーぱみゅぱみゅ', 192500.0], ['星空のディスタンス/THE ALFEE', '名もなき詩/Mr.Children', 22000.0], ['星空のディスタンス/THE ALFEE', 'honnoji/ZAZEN BOYS', 40689.0], ['星空のディスタンス/THE ALFEE', 'ポテトサラダ/ZAZEN BOYS', 38104.0], ['赤いスイートピー/松田聖子', 'ポリリズム/PERFUME', 23270.25], ['ファッションモンスター/きゃりーぱみゅぱみゅ', 'ポリリズム/PERFUME', 177333.33333333334], ['ポリリズム/PERFUME', '名もなき詩/Mr.Children', 30400.0], ['ポリリズム/PERFUME', 'honnoji/ZAZEN BOYS', 46854.0], ['ポリリズム/PERFUME', 'ポテトサラダ/ZAZEN BOYS', 41135.0], ['メリーアン/THE ALFEE', '赤いスイートピー/松田聖子', 14517.369999999999], ['メリーアン/THE ALFEE', 'ファッションモンスター/きゃりーぱみゅぱみゅ', 177800.0], ['メリーアン/THE ALFEE', '名もなき詩/Mr.Children', 28448.0], ['メリーアン/THE ALFEE', 'honnoji/ZAZEN BOYS', 32884.11], ['メリーアン/THE ALFEE', 'ポテトサラダ/ZAZEN BOYS', 25662.466666666667]]\n",
      "['星空のディスタンス/THE ALFEE', 'ポリリズム/PERFUME', 'メリーアン/THE ALFEE', '赤いスイートピー/松田聖子']\n",
      "first half done\n",
      "[['星空のディスタンス/THE ALFEE', 'ファッションモンスター/きゃりーぱみゅぱみゅ', 192500.0], ['星空のディスタンス/THE ALFEE', '名もなき詩/Mr.Children', 22000.0], ['星空のディスタンス/THE ALFEE', 'honnoji/ZAZEN BOYS', 40689.0], ['星空のディスタンス/THE ALFEE', 'ポテトサラダ/ZAZEN BOYS', 38104.0], ['ファッションモンスター/きゃりーぱみゅぱみゅ', 'ポリリズム/PERFUME', 177333.33333333334], ['ポリリズム/PERFUME', '名もなき詩/Mr.Children', 30400.0], ['ポリリズム/PERFUME', 'honnoji/ZAZEN BOYS', 46854.0], ['ポリリズム/PERFUME', 'ポテトサラダ/ZAZEN BOYS', 41135.0], ['メリーアン/THE ALFEE', 'ファッションモンスター/きゃりーぱみゅぱみゅ', 177800.0], ['メリーアン/THE ALFEE', '名もなき詩/Mr.Children', 28448.0], ['メリーアン/THE ALFEE', 'honnoji/ZAZEN BOYS', 32884.11], ['メリーアン/THE ALFEE', 'ポテトサラダ/ZAZEN BOYS', 25662.466666666667], ['赤いスイートピー/松田聖子', 'ファッションモンスター/きゃりーぱみゅぱみゅ', 152413.33333333334], ['赤いスイートピー/松田聖子', '名もなき詩/Mr.Children', 18443.29411764706], ['赤いスイートピー/松田聖子', 'honnoji/ZAZEN BOYS', 36242.802], ['赤いスイートピー/松田聖子', 'ポテトサラダ/ZAZEN BOYS', 33940.272]]\n",
      "['星空のディスタンス/THE ALFEE', 'ポリリズム/PERFUME', 'メリーアン/THE ALFEE', '赤いスイートピー/松田聖子', 'ファッションモンスター/きゃりーぱみゅぱみゅ']\n",
      "first half done\n",
      "[['星空のディスタンス/THE ALFEE', '名もなき詩/Mr.Children', 22000.0], ['星空のディスタンス/THE ALFEE', 'honnoji/ZAZEN BOYS', 40689.0], ['星空のディスタンス/THE ALFEE', 'ポテトサラダ/ZAZEN BOYS', 38104.0], ['ポリリズム/PERFUME', '名もなき詩/Mr.Children', 30400.0], ['ポリリズム/PERFUME', 'honnoji/ZAZEN BOYS', 46854.0], ['ポリリズム/PERFUME', 'ポテトサラダ/ZAZEN BOYS', 41135.0], ['メリーアン/THE ALFEE', '名もなき詩/Mr.Children', 28448.0], ['メリーアン/THE ALFEE', 'honnoji/ZAZEN BOYS', 32884.11], ['メリーアン/THE ALFEE', 'ポテトサラダ/ZAZEN BOYS', 25662.466666666667], ['赤いスイートピー/松田聖子', '名もなき詩/Mr.Children', 18443.29411764706], ['赤いスイートピー/松田聖子', 'honnoji/ZAZEN BOYS', 36242.802], ['赤いスイートピー/松田聖子', 'ポテトサラダ/ZAZEN BOYS', 33940.272], ['ファッションモンスター/きゃりーぱみゅぱみゅ', '名もなき詩/Mr.Children', 224000.0], ['ファッションモンスター/きゃりーぱみゅぱみゅ', 'honnoji/ZAZEN BOYS', 258930.0], ['ファッションモンスター/きゃりーぱみゅぱみゅ', 'ポテトサラダ/ZAZEN BOYS', 242480.0]]\n",
      "['星空のディスタンス/THE ALFEE', 'ポリリズム/PERFUME', 'メリーアン/THE ALFEE', '赤いスイートピー/松田聖子', 'ファッションモンスター/きゃりーぱみゅぱみゅ', '名もなき詩/Mr.Children']\n",
      "first half done\n",
      "[['星空のディスタンス/THE ALFEE', 'honnoji/ZAZEN BOYS', 40689.0], ['星空のディスタンス/THE ALFEE', 'ポテトサラダ/ZAZEN BOYS', 38104.0], ['ポリリズム/PERFUME', 'honnoji/ZAZEN BOYS', 46854.0], ['ポリリズム/PERFUME', 'ポテトサラダ/ZAZEN BOYS', 41135.0], ['メリーアン/THE ALFEE', 'honnoji/ZAZEN BOYS', 32884.11], ['メリーアン/THE ALFEE', 'ポテトサラダ/ZAZEN BOYS', 25662.466666666667], ['赤いスイートピー/松田聖子', 'honnoji/ZAZEN BOYS', 36242.802], ['赤いスイートピー/松田聖子', 'ポテトサラダ/ZAZEN BOYS', 33940.272], ['ファッションモンスター/きゃりーぱみゅぱみゅ', 'honnoji/ZAZEN BOYS', 258930.0], ['ファッションモンスター/きゃりーぱみゅぱみゅ', 'ポテトサラダ/ZAZEN BOYS', 242480.0], ['名もなき詩/Mr.Children', 'honnoji/ZAZEN BOYS', 29592.0], ['名もなき詩/Mr.Children', 'ポテトサラダ/ZAZEN BOYS', 34640.0]]\n",
      "['星空のディスタンス/THE ALFEE', 'ポリリズム/PERFUME', 'メリーアン/THE ALFEE', '赤いスイートピー/松田聖子', 'ファッションモンスター/きゃりーぱみゅぱみゅ', '名もなき詩/Mr.Children', 'ポテトサラダ/ZAZEN BOYS']\n",
      "first half done\n",
      "[['星空のディスタンス/THE ALFEE', 'honnoji/ZAZEN BOYS', 40689.0], ['ポリリズム/PERFUME', 'honnoji/ZAZEN BOYS', 46854.0], ['メリーアン/THE ALFEE', 'honnoji/ZAZEN BOYS', 32884.11], ['赤いスイートピー/松田聖子', 'honnoji/ZAZEN BOYS', 36242.802], ['ファッションモンスター/きゃりーぱみゅぱみゅ', 'honnoji/ZAZEN BOYS', 258930.0], ['名もなき詩/Mr.Children', 'honnoji/ZAZEN BOYS', 29592.0], ['honnoji/ZAZEN BOYS', 'ポテトサラダ/ZAZEN BOYS', 3768.6282352941175]]\n"
     ]
    }
   ],
   "source": [
    "while sorted(V) != sorted(P):\n",
    "    print(P)\n",
    "    Ecand = []\n",
    "    for vv in P:\n",
    "        for ee in E:\n",
    "            if (ee[0] == vv and not ee[1] in P) or (not ee[0] in P and ee[1] == vv):\n",
    "                if not ee in Ecand:\n",
    "                    Ecand.append(ee)\n",
    "    print(\"first half done\")\n",
    "    if ee:\n",
    "        print(Ecand)\n",
    "        wmin = Ecand[np.argmin(np.array(Ecand)[:, 2])]  # 重み最小の辺\n",
    "        W += wmin[2]\n",
    "        S.append(wmin[0:2])\n",
    "        if not wmin[0]in P:\n",
    "            P.append(wmin[0])\n",
    "        if not wmin[1]in P:\n",
    "            P.append(wmin[1])"
   ]
  },
  {
   "cell_type": "code",
   "execution_count": 30,
   "metadata": {},
   "outputs": [
    {
     "name": "stdout",
     "output_type": "stream",
     "text": [
      "過去頂点の集合:  ['星空のディスタンス/THE ALFEE', 'ポリリズム/PERFUME', 'メリーアン/THE ALFEE', '赤いスイートピー/松田聖子', 'ファッションモンスター/きゃりーぱみゅぱみゅ', '名もなき詩/Mr.Children', 'ポテトサラダ/ZAZEN BOYS', 'honnoji/ZAZEN BOYS']\n",
      "\n",
      "辺の部分集合:  [['星空のディスタンス/THE ALFEE', 'ポリリズム/PERFUME'], ['星空のディスタンス/THE ALFEE', 'メリーアン/THE ALFEE'], ['メリーアン/THE ALFEE', '赤いスイートピー/松田聖子'], ['赤いスイートピー/松田聖子', 'ファッションモンスター/きゃりーぱみゅぱみゅ'], ['赤いスイートピー/松田聖子', '名もなき詩/Mr.Children'], ['ファッションモンスター/きゃりーぱみゅぱみゅ', 'ポテトサラダ/ZAZEN BOYS'], ['ファッションモンスター/きゃりーぱみゅぱみゅ', 'honnoji/ZAZEN BOYS']]\n",
      "\n",
      "重みの総和 807582.3307843137\n",
      "\n"
     ]
    }
   ],
   "source": [
    "print(\"過去頂点の集合: \", P, end=\"\\n\\n\")  # 過去頂点の集合\n",
    "print(\"辺の部分集合: \", S, end=\"\\n\\n\")  # 辺の部分集合\n",
    "print(\"重みの総和\", W, end=\"\\n\\n\")  # 重みの総和"
   ]
  },
  {
   "cell_type": "code",
   "execution_count": null,
   "metadata": {},
   "outputs": [],
   "source": []
  },
  {
   "cell_type": "code",
   "execution_count": null,
   "metadata": {},
   "outputs": [],
   "source": []
  }
 ],
 "metadata": {
  "kernelspec": {
   "display_name": "Python 3",
   "language": "python",
   "name": "python3"
  },
  "language_info": {
   "codemirror_mode": {
    "name": "ipython",
    "version": 3
   },
   "file_extension": ".py",
   "mimetype": "text/x-python",
   "name": "python",
   "nbconvert_exporter": "python",
   "pygments_lexer": "ipython3",
   "version": "3.7.0"
  },
  "varInspector": {
   "cols": {
    "lenName": 16,
    "lenType": 16,
    "lenVar": 40
   },
   "kernels_config": {
    "python": {
     "delete_cmd_postfix": "",
     "delete_cmd_prefix": "del ",
     "library": "var_list.py",
     "varRefreshCmd": "print(var_dic_list())"
    },
    "r": {
     "delete_cmd_postfix": ") ",
     "delete_cmd_prefix": "rm(",
     "library": "var_list.r",
     "varRefreshCmd": "cat(var_dic_list()) "
    }
   },
   "types_to_exclude": [
    "module",
    "function",
    "builtin_function_or_method",
    "instance",
    "_Feature"
   ],
   "window_display": false
  }
 },
 "nbformat": 4,
 "nbformat_minor": 2
}
