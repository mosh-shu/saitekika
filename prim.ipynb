{
 "cells": [
  {
   "cell_type": "markdown",
   "metadata": {},
   "source": [
    "# 最適化の数理 最終課題\n",
    "## 最小スパニングツリー問題を用いた音楽ストリーミングサービスでの楽曲サジェスチョンサービス  \n",
    "プリムのアルゴリズムを使用. コストは楽曲間の「距離」. これは, 2つの楽曲をいいねしたユーザーの合計数 / どちらもいいねしたユーザーの数で定義する (レポート参照) "
   ]
  },
  {
   "cell_type": "markdown",
   "metadata": {},
   "source": [
    "## Set up"
   ]
  },
  {
   "cell_type": "code",
   "execution_count": 2,
   "metadata": {},
   "outputs": [],
   "source": [
    "import numpy as np"
   ]
  },
  {
   "cell_type": "markdown",
   "metadata": {},
   "source": [
    "## Define the graph"
   ]
  },
  {
   "cell_type": "code",
   "execution_count": 7,
   "metadata": {},
   "outputs": [],
   "source": [
    "V = [\"星空のディスタンス/THE ALFEE\", \"メリーアン/THE ALFEE\",\n",
    "     \"赤いスイートピー/松田聖子\", \"ファッションモンスター/きゃりーぱみゅぱみゅ\", \n",
    "     \"ポリリズム/PERFUME\", \"名もなき詩/Mr.Children\", \"honnoji/ZAZEN BOYS\",\n",
    "     \"ポテトサラダ/ZAZEN BOYS\"]\n",
    "songs = V\n",
    "L_songs = [11000, 4445, 9798, 140000, 19000, 16000, 3699, 1732] # 再生数の合計数\n",
    "L_mutual = [[0, 3000, 3000, 8000, 2000 , 8000 , 1000, 500 ],\n",
    "            [0, 0   , 3000, 3500, 2000 , 2500 , 500 , 300 ],\n",
    "            [0, 0   , 0   , 9000, 8000 , 8500 , 1000, 500 ],\n",
    "            [0, 0   , 0   , 0   , 15000, 10000, 2000, 1000],\n",
    "            [0, 0   , 0   , 0   , 0    , 10000, 1500, 800 ],\n",
    "            [0, 0   , 0   , 0   , 0    , 0    , 2000, 800 ],\n",
    "            [0, 0   , 0   , 0   , 0    , 0    , 0   , 1700],\n",
    "            [0, 0   , 0   , 0   , 0    , 0    , 0   , 0   ]] # 両方の曲を高評価した人の数\n",
    "distance = np.zeros((np.size(songs), np.size(songs))) # コスト配列を初期化\n",
    "E = [] \n",
    "for i in range(np.size(distance, 0)):\n",
    "    for j in range(np.size(distance, 1)):\n",
    "        if i < j:\n",
    "            # (1 / (どちらの曲も高評価した人数)) * 二つの曲の高評価の合計値\n",
    "            # これをnormFac で正規化\n",
    "            L_total = L_songs[i] + L_songs[j]\n",
    "#             L_total = L_songs[i] * L_songs[j]\n",
    "            dist = (1 / (L_mutual[i][j])) * L_total\n",
    "            E.append([songs[i], songs[j],dist])\n",
    "v0 = V[0]"
   ]
  },
  {
   "cell_type": "code",
   "execution_count": 8,
   "metadata": {},
   "outputs": [
    {
     "data": {
      "text/plain": [
       "[['星空のディスタンス/THE ALFEE', 'メリーアン/THE ALFEE', 5.148333333333333],\n",
       " ['星空のディスタンス/THE ALFEE', '赤いスイートピー/松田聖子', 6.932666666666666],\n",
       " ['星空のディスタンス/THE ALFEE', 'ファッションモンスター/きゃりーぱみゅぱみゅ', 18.875],\n",
       " ['星空のディスタンス/THE ALFEE', 'ポリリズム/PERFUME', 15.0],\n",
       " ['星空のディスタンス/THE ALFEE', '名もなき詩/Mr.Children', 3.375],\n",
       " ['星空のディスタンス/THE ALFEE', 'honnoji/ZAZEN BOYS', 14.699],\n",
       " ['星空のディスタンス/THE ALFEE', 'ポテトサラダ/ZAZEN BOYS', 25.464000000000002],\n",
       " ['メリーアン/THE ALFEE', '赤いスイートピー/松田聖子', 4.7476666666666665],\n",
       " ['メリーアン/THE ALFEE', 'ファッションモンスター/きゃりーぱみゅぱみゅ', 41.27],\n",
       " ['メリーアン/THE ALFEE', 'ポリリズム/PERFUME', 11.7225],\n",
       " ['メリーアン/THE ALFEE', '名もなき詩/Mr.Children', 8.178],\n",
       " ['メリーアン/THE ALFEE', 'honnoji/ZAZEN BOYS', 16.288],\n",
       " ['メリーアン/THE ALFEE', 'ポテトサラダ/ZAZEN BOYS', 20.59],\n",
       " ['赤いスイートピー/松田聖子', 'ファッションモンスター/きゃりーぱみゅぱみゅ', 16.644222222222222],\n",
       " ['赤いスイートピー/松田聖子', 'ポリリズム/PERFUME', 3.5997500000000002],\n",
       " ['赤いスイートピー/松田聖子', '名もなき詩/Mr.Children', 3.035058823529412],\n",
       " ['赤いスイートピー/松田聖子', 'honnoji/ZAZEN BOYS', 13.497],\n",
       " ['赤いスイートピー/松田聖子', 'ポテトサラダ/ZAZEN BOYS', 23.06],\n",
       " ['ファッションモンスター/きゃりーぱみゅぱみゅ', 'ポリリズム/PERFUME', 10.6],\n",
       " ['ファッションモンスター/きゃりーぱみゅぱみゅ', '名もなき詩/Mr.Children', 15.600000000000001],\n",
       " ['ファッションモンスター/きゃりーぱみゅぱみゅ', 'honnoji/ZAZEN BOYS', 71.8495],\n",
       " ['ファッションモンスター/きゃりーぱみゅぱみゅ', 'ポテトサラダ/ZAZEN BOYS', 141.732],\n",
       " ['ポリリズム/PERFUME', '名もなき詩/Mr.Children', 3.5],\n",
       " ['ポリリズム/PERFUME', 'honnoji/ZAZEN BOYS', 15.132666666666665],\n",
       " ['ポリリズム/PERFUME', 'ポテトサラダ/ZAZEN BOYS', 25.915],\n",
       " ['名もなき詩/Mr.Children', 'honnoji/ZAZEN BOYS', 9.8495],\n",
       " ['名もなき詩/Mr.Children', 'ポテトサラダ/ZAZEN BOYS', 22.165],\n",
       " ['honnoji/ZAZEN BOYS', 'ポテトサラダ/ZAZEN BOYS', 3.194705882352941]]"
      ]
     },
     "execution_count": 8,
     "metadata": {},
     "output_type": "execute_result"
    }
   ],
   "source": [
    "E"
   ]
  },
  {
   "cell_type": "markdown",
   "metadata": {},
   "source": [
    "## Initialize some values"
   ]
  },
  {
   "cell_type": "code",
   "execution_count": 9,
   "metadata": {},
   "outputs": [],
   "source": [
    "P = [v0] # 過去頂点の集合\n",
    "S = [] # 辺の部分集合\n",
    "W = 0 # 重みの総和"
   ]
  },
  {
   "cell_type": "markdown",
   "metadata": {},
   "source": [
    "## Main Loop"
   ]
  },
  {
   "cell_type": "code",
   "execution_count": 10,
   "metadata": {},
   "outputs": [
    {
     "name": "stdout",
     "output_type": "stream",
     "text": [
      "[['星空のディスタンス/THE ALFEE', 'メリーアン/THE ALFEE', 5.148333333333333], ['星空のディスタンス/THE ALFEE', '赤いスイートピー/松田聖子', 6.932666666666666], ['星空のディスタンス/THE ALFEE', 'ファッションモンスター/きゃりーぱみゅぱみゅ', 18.875], ['星空のディスタンス/THE ALFEE', 'ポリリズム/PERFUME', 15.0], ['星空のディスタンス/THE ALFEE', '名もなき詩/Mr.Children', 3.375], ['星空のディスタンス/THE ALFEE', 'honnoji/ZAZEN BOYS', 14.699], ['星空のディスタンス/THE ALFEE', 'ポテトサラダ/ZAZEN BOYS', 25.464000000000002]]\n",
      "['星空のディスタンス/THE ALFEE', '名もなき詩/Mr.Children', 3.375]\n",
      "[['星空のディスタンス/THE ALFEE', 'メリーアン/THE ALFEE', 5.148333333333333], ['星空のディスタンス/THE ALFEE', '赤いスイートピー/松田聖子', 6.932666666666666], ['星空のディスタンス/THE ALFEE', 'ファッションモンスター/きゃりーぱみゅぱみゅ', 18.875], ['星空のディスタンス/THE ALFEE', 'ポリリズム/PERFUME', 15.0], ['星空のディスタンス/THE ALFEE', 'honnoji/ZAZEN BOYS', 14.699], ['星空のディスタンス/THE ALFEE', 'ポテトサラダ/ZAZEN BOYS', 25.464000000000002], ['メリーアン/THE ALFEE', '名もなき詩/Mr.Children', 8.178], ['赤いスイートピー/松田聖子', '名もなき詩/Mr.Children', 3.035058823529412], ['ファッションモンスター/きゃりーぱみゅぱみゅ', '名もなき詩/Mr.Children', 15.600000000000001], ['ポリリズム/PERFUME', '名もなき詩/Mr.Children', 3.5], ['名もなき詩/Mr.Children', 'honnoji/ZAZEN BOYS', 9.8495], ['名もなき詩/Mr.Children', 'ポテトサラダ/ZAZEN BOYS', 22.165]]\n",
      "['赤いスイートピー/松田聖子', '名もなき詩/Mr.Children', 3.035058823529412]\n",
      "[['星空のディスタンス/THE ALFEE', 'メリーアン/THE ALFEE', 5.148333333333333], ['星空のディスタンス/THE ALFEE', 'ファッションモンスター/きゃりーぱみゅぱみゅ', 18.875], ['星空のディスタンス/THE ALFEE', 'ポリリズム/PERFUME', 15.0], ['星空のディスタンス/THE ALFEE', 'honnoji/ZAZEN BOYS', 14.699], ['星空のディスタンス/THE ALFEE', 'ポテトサラダ/ZAZEN BOYS', 25.464000000000002], ['メリーアン/THE ALFEE', '赤いスイートピー/松田聖子', 4.7476666666666665], ['メリーアン/THE ALFEE', '名もなき詩/Mr.Children', 8.178], ['赤いスイートピー/松田聖子', 'ファッションモンスター/きゃりーぱみゅぱみゅ', 16.644222222222222], ['赤いスイートピー/松田聖子', 'ポリリズム/PERFUME', 3.5997500000000002], ['赤いスイートピー/松田聖子', 'honnoji/ZAZEN BOYS', 13.497], ['赤いスイートピー/松田聖子', 'ポテトサラダ/ZAZEN BOYS', 23.06], ['ファッションモンスター/きゃりーぱみゅぱみゅ', '名もなき詩/Mr.Children', 15.600000000000001], ['ポリリズム/PERFUME', '名もなき詩/Mr.Children', 3.5], ['名もなき詩/Mr.Children', 'honnoji/ZAZEN BOYS', 9.8495], ['名もなき詩/Mr.Children', 'ポテトサラダ/ZAZEN BOYS', 22.165]]\n",
      "['ポリリズム/PERFUME', '名もなき詩/Mr.Children', 3.5]\n",
      "[['星空のディスタンス/THE ALFEE', 'メリーアン/THE ALFEE', 5.148333333333333], ['星空のディスタンス/THE ALFEE', 'ファッションモンスター/きゃりーぱみゅぱみゅ', 18.875], ['星空のディスタンス/THE ALFEE', 'honnoji/ZAZEN BOYS', 14.699], ['星空のディスタンス/THE ALFEE', 'ポテトサラダ/ZAZEN BOYS', 25.464000000000002], ['メリーアン/THE ALFEE', '赤いスイートピー/松田聖子', 4.7476666666666665], ['メリーアン/THE ALFEE', 'ポリリズム/PERFUME', 11.7225], ['メリーアン/THE ALFEE', '名もなき詩/Mr.Children', 8.178], ['赤いスイートピー/松田聖子', 'ファッションモンスター/きゃりーぱみゅぱみゅ', 16.644222222222222], ['赤いスイートピー/松田聖子', 'honnoji/ZAZEN BOYS', 13.497], ['赤いスイートピー/松田聖子', 'ポテトサラダ/ZAZEN BOYS', 23.06], ['ファッションモンスター/きゃりーぱみゅぱみゅ', 'ポリリズム/PERFUME', 10.6], ['ファッションモンスター/きゃりーぱみゅぱみゅ', '名もなき詩/Mr.Children', 15.600000000000001], ['ポリリズム/PERFUME', 'honnoji/ZAZEN BOYS', 15.132666666666665], ['ポリリズム/PERFUME', 'ポテトサラダ/ZAZEN BOYS', 25.915], ['名もなき詩/Mr.Children', 'honnoji/ZAZEN BOYS', 9.8495], ['名もなき詩/Mr.Children', 'ポテトサラダ/ZAZEN BOYS', 22.165]]\n",
      "['メリーアン/THE ALFEE', '赤いスイートピー/松田聖子', 4.7476666666666665]\n",
      "[['星空のディスタンス/THE ALFEE', 'ファッションモンスター/きゃりーぱみゅぱみゅ', 18.875], ['星空のディスタンス/THE ALFEE', 'honnoji/ZAZEN BOYS', 14.699], ['星空のディスタンス/THE ALFEE', 'ポテトサラダ/ZAZEN BOYS', 25.464000000000002], ['メリーアン/THE ALFEE', 'ファッションモンスター/きゃりーぱみゅぱみゅ', 41.27], ['メリーアン/THE ALFEE', 'honnoji/ZAZEN BOYS', 16.288], ['メリーアン/THE ALFEE', 'ポテトサラダ/ZAZEN BOYS', 20.59], ['赤いスイートピー/松田聖子', 'ファッションモンスター/きゃりーぱみゅぱみゅ', 16.644222222222222], ['赤いスイートピー/松田聖子', 'honnoji/ZAZEN BOYS', 13.497], ['赤いスイートピー/松田聖子', 'ポテトサラダ/ZAZEN BOYS', 23.06], ['ファッションモンスター/きゃりーぱみゅぱみゅ', 'ポリリズム/PERFUME', 10.6], ['ファッションモンスター/きゃりーぱみゅぱみゅ', '名もなき詩/Mr.Children', 15.600000000000001], ['ポリリズム/PERFUME', 'honnoji/ZAZEN BOYS', 15.132666666666665], ['ポリリズム/PERFUME', 'ポテトサラダ/ZAZEN BOYS', 25.915], ['名もなき詩/Mr.Children', 'honnoji/ZAZEN BOYS', 9.8495], ['名もなき詩/Mr.Children', 'ポテトサラダ/ZAZEN BOYS', 22.165]]\n",
      "['名もなき詩/Mr.Children', 'honnoji/ZAZEN BOYS', 9.8495]\n",
      "[['星空のディスタンス/THE ALFEE', 'ファッションモンスター/きゃりーぱみゅぱみゅ', 18.875], ['星空のディスタンス/THE ALFEE', 'ポテトサラダ/ZAZEN BOYS', 25.464000000000002], ['メリーアン/THE ALFEE', 'ファッションモンスター/きゃりーぱみゅぱみゅ', 41.27], ['メリーアン/THE ALFEE', 'ポテトサラダ/ZAZEN BOYS', 20.59], ['赤いスイートピー/松田聖子', 'ファッションモンスター/きゃりーぱみゅぱみゅ', 16.644222222222222], ['赤いスイートピー/松田聖子', 'ポテトサラダ/ZAZEN BOYS', 23.06], ['ファッションモンスター/きゃりーぱみゅぱみゅ', 'ポリリズム/PERFUME', 10.6], ['ファッションモンスター/きゃりーぱみゅぱみゅ', '名もなき詩/Mr.Children', 15.600000000000001], ['ファッションモンスター/きゃりーぱみゅぱみゅ', 'honnoji/ZAZEN BOYS', 71.8495], ['ポリリズム/PERFUME', 'ポテトサラダ/ZAZEN BOYS', 25.915], ['名もなき詩/Mr.Children', 'ポテトサラダ/ZAZEN BOYS', 22.165], ['honnoji/ZAZEN BOYS', 'ポテトサラダ/ZAZEN BOYS', 3.194705882352941]]\n",
      "['honnoji/ZAZEN BOYS', 'ポテトサラダ/ZAZEN BOYS', 3.194705882352941]\n",
      "[['星空のディスタンス/THE ALFEE', 'ファッションモンスター/きゃりーぱみゅぱみゅ', 18.875], ['メリーアン/THE ALFEE', 'ファッションモンスター/きゃりーぱみゅぱみゅ', 41.27], ['赤いスイートピー/松田聖子', 'ファッションモンスター/きゃりーぱみゅぱみゅ', 16.644222222222222], ['ファッションモンスター/きゃりーぱみゅぱみゅ', 'ポリリズム/PERFUME', 10.6], ['ファッションモンスター/きゃりーぱみゅぱみゅ', '名もなき詩/Mr.Children', 15.600000000000001], ['ファッションモンスター/きゃりーぱみゅぱみゅ', 'honnoji/ZAZEN BOYS', 71.8495], ['ファッションモンスター/きゃりーぱみゅぱみゅ', 'ポテトサラダ/ZAZEN BOYS', 141.732]]\n",
      "['ファッションモンスター/きゃりーぱみゅぱみゅ', 'ポリリズム/PERFUME', 10.6]\n"
     ]
    }
   ],
   "source": [
    "while sorted(V) != sorted(P):\n",
    "    Ecand = []\n",
    "    for ee in E:\n",
    "        if (ee[0] in P and not ee[1] in P) or (not ee[0] in P and ee[1] in P):\n",
    "            if not ee in Ecand:\n",
    "                Ecand.append(ee)\n",
    "    if ee:\n",
    "        print(Ecand)\n",
    "        wmin = Ecand[np.argmin(np.array(Ecand)[:, 2].astype('float'))]  # 重み最小の辺\n",
    "        print(wmin)\n",
    "        W += wmin[2]\n",
    "        S.append(wmin[0:2])\n",
    "        if not wmin[0]in P:\n",
    "            P.append(wmin[0])\n",
    "        if not wmin[1]in P:\n",
    "            P.append(wmin[1])"
   ]
  },
  {
   "cell_type": "code",
   "execution_count": 11,
   "metadata": {},
   "outputs": [
    {
     "data": {
      "text/plain": [
       "3"
      ]
     },
     "execution_count": 11,
     "metadata": {},
     "output_type": "execute_result"
    }
   ],
   "source": [
    "np.argmin((np.array(Ecand)[:, 2].astype('float')))"
   ]
  },
  {
   "cell_type": "code",
   "execution_count": 12,
   "metadata": {},
   "outputs": [
    {
     "name": "stdout",
     "output_type": "stream",
     "text": [
      "過去頂点の集合:  ['星空のディスタンス/THE ALFEE', '名もなき詩/Mr.Children', '赤いスイートピー/松田聖子', 'ポリリズム/PERFUME', 'メリーアン/THE ALFEE', 'honnoji/ZAZEN BOYS', 'ポテトサラダ/ZAZEN BOYS', 'ファッションモンスター/きゃりーぱみゅぱみゅ']\n",
      "\n",
      "辺の部分集合:  [['星空のディスタンス/THE ALFEE', '名もなき詩/Mr.Children'], ['赤いスイートピー/松田聖子', '名もなき詩/Mr.Children'], ['ポリリズム/PERFUME', '名もなき詩/Mr.Children'], ['メリーアン/THE ALFEE', '赤いスイートピー/松田聖子'], ['名もなき詩/Mr.Children', 'honnoji/ZAZEN BOYS'], ['honnoji/ZAZEN BOYS', 'ポテトサラダ/ZAZEN BOYS'], ['ファッションモンスター/きゃりーぱみゅぱみゅ', 'ポリリズム/PERFUME']]\n",
      "\n",
      "重みの総和 38.30193137254902\n",
      "\n"
     ]
    }
   ],
   "source": [
    "print(\"過去頂点の集合: \", P, end=\"\\n\\n\")  # 過去頂点の集合\n",
    "print(\"辺の部分集合: \", S, end=\"\\n\\n\")  # 辺の部分集合\n",
    "print(\"重みの総和\", W, end=\"\\n\\n\")  # 重みの総和"
   ]
  },
  {
   "cell_type": "code",
   "execution_count": null,
   "metadata": {},
   "outputs": [],
   "source": []
  },
  {
   "cell_type": "code",
   "execution_count": null,
   "metadata": {},
   "outputs": [],
   "source": []
  }
 ],
 "metadata": {
  "kernelspec": {
   "display_name": "Python 3",
   "language": "python",
   "name": "python3"
  },
  "language_info": {
   "codemirror_mode": {
    "name": "ipython",
    "version": 3
   },
   "file_extension": ".py",
   "mimetype": "text/x-python",
   "name": "python",
   "nbconvert_exporter": "python",
   "pygments_lexer": "ipython3",
   "version": "3.7.0"
  },
  "varInspector": {
   "cols": {
    "lenName": 16,
    "lenType": 16,
    "lenVar": 40
   },
   "kernels_config": {
    "python": {
     "delete_cmd_postfix": "",
     "delete_cmd_prefix": "del ",
     "library": "var_list.py",
     "varRefreshCmd": "print(var_dic_list())"
    },
    "r": {
     "delete_cmd_postfix": ") ",
     "delete_cmd_prefix": "rm(",
     "library": "var_list.r",
     "varRefreshCmd": "cat(var_dic_list()) "
    }
   },
   "types_to_exclude": [
    "module",
    "function",
    "builtin_function_or_method",
    "instance",
    "_Feature"
   ],
   "window_display": false
  }
 },
 "nbformat": 4,
 "nbformat_minor": 2
}
