{
 "cells": [
  {
   "cell_type": "markdown",
   "metadata": {},
   "source": [
    "# 最適化の数理 最終課題\n",
    "## numpyによる動的計画法の実装\n",
    "### 坂本嵩 環境情報学部2年 71775236 t17523ss"
   ]
  },
  {
   "cell_type": "markdown",
   "metadata": {},
   "source": []
  },
  {
   "cell_type": "code",
   "execution_count": 15,
   "metadata": {},
   "outputs": [],
   "source": [
    "import numpy as np"
   ]
  },
  {
   "cell_type": "code",
   "execution_count": 83,
   "metadata": {},
   "outputs": [],
   "source": [
    "products = [(11, 15), (4, 4), (2, 3), (1, 2), (3, 1), (5, 8)] # (weight, value)\n",
    "maxWeight = 15"
   ]
  },
  {
   "cell_type": "code",
   "execution_count": 86,
   "metadata": {},
   "outputs": [],
   "source": [
    "def dinamicPlan(prod, W): # W is the maximum loadble weight\n",
    "    N = len(products) # N is the numnber of products\n",
    "    val = np.zeros((N+1, W+1))\n",
    "    dec = np.zeros((N+1, W+1))\n",
    "    decopt = []\n",
    "    \n",
    "    for i in range(1, N+1):\n",
    "        for j in range(1, W+1):\n",
    "            wi = prod[i-1][0]\n",
    "            vi = prod[i-1][1]\n",
    "            if wi <= j:\n",
    "                if val[i-1, j] < val[i-1, j-wi] + vi:\n",
    "                    val[i, j] = val[i-1, j-wi] + vi\n",
    "                    dec[i, j] = 1\n",
    "                else:\n",
    "                    val[i, j] = val[i-1, j]\n",
    "                    dec[i, j] = 0\n",
    "            else:\n",
    "                val[i, j] = val[i-1, j]\n",
    "                dec[i, j] = 0\n",
    "    \n",
    "    idxopt = list(zip(np.where(val==val.max())[0], \n",
    "                      np.where(val==val.max())[1]))\n",
    "    iopt = idxopt[0][0]\n",
    "    jopt = idxopt[0][1]\n",
    "    jstar = jopt\n",
    "    \n",
    "    ilist = range(1, iopt+1)\n",
    "    \n",
    "    for i in reversed(ilist):\n",
    "        wi = prod[i-1][0]\n",
    "        if dec[i, jstar] == 1:\n",
    "            decopt.append(i)\n",
    "            jstar -= wi\n",
    "    return decopt, jopt"
   ]
  },
  {
   "cell_type": "code",
   "execution_count": 87,
   "metadata": {},
   "outputs": [
    {
     "name": "stdout",
     "output_type": "stream",
     "text": [
      "4 13\n",
      "3 11\n",
      "1 0\n"
     ]
    },
    {
     "data": {
      "text/plain": [
       "(array([[ 0.,  0.,  0.,  0.,  0.,  0.,  0.,  0.,  0.,  0.,  0.,  0.,  0.,\n",
       "          0.,  0.,  0.],\n",
       "        [ 0.,  0.,  0.,  0.,  0.,  0.,  0.,  0.,  0.,  0.,  0., 15., 15.,\n",
       "         15., 15., 15.],\n",
       "        [ 0.,  0.,  0.,  0.,  4.,  4.,  4.,  4.,  4.,  4.,  4., 15., 15.,\n",
       "         15., 15., 19.],\n",
       "        [ 0.,  0.,  3.,  3.,  4.,  4.,  7.,  7.,  7.,  7.,  7., 15., 15.,\n",
       "         18., 18., 19.],\n",
       "        [ 0.,  2.,  3.,  5.,  5.,  6.,  7.,  9.,  9.,  9.,  9., 15., 17.,\n",
       "         18., 20., 20.],\n",
       "        [ 0.,  2.,  3.,  5.,  5.,  6.,  7.,  9.,  9.,  9., 10., 15., 17.,\n",
       "         18., 20., 20.],\n",
       "        [ 0.,  2.,  3.,  5.,  5.,  8., 10., 11., 13., 13., 14., 15., 17.,\n",
       "         18., 20., 20.]]),\n",
       " array([[0., 0., 0., 0., 0., 0., 0., 0., 0., 0., 0., 0., 0., 0., 0., 0.],\n",
       "        [0., 0., 0., 0., 0., 0., 0., 0., 0., 0., 0., 1., 1., 1., 1., 1.],\n",
       "        [0., 0., 0., 0., 1., 1., 1., 1., 1., 1., 1., 0., 0., 0., 0., 1.],\n",
       "        [0., 0., 1., 1., 0., 0., 1., 1., 1., 1., 1., 0., 0., 1., 1., 0.],\n",
       "        [0., 1., 0., 1., 1., 1., 0., 1., 1., 1., 1., 0., 1., 0., 1., 1.],\n",
       "        [0., 0., 0., 0., 0., 0., 0., 0., 0., 0., 1., 0., 0., 0., 0., 0.],\n",
       "        [0., 0., 0., 0., 0., 1., 1., 1., 1., 1., 1., 0., 0., 0., 0., 0.]]),\n",
       " [(3, 1), (1, 2), (4, 4)],\n",
       " 14)"
      ]
     },
     "execution_count": 87,
     "metadata": {},
     "output_type": "execute_result"
    }
   ],
   "source": [
    "dinamicPlan(products, maxWeight)"
   ]
  },
  {
   "cell_type": "code",
   "execution_count": 88,
   "metadata": {},
   "outputs": [],
   "source": [
    "a = np.array([[1,2,3], [4,5,6], [2, 4, 5]])"
   ]
  },
  {
   "cell_type": "code",
   "execution_count": 23,
   "metadata": {},
   "outputs": [
    {
     "data": {
      "text/plain": [
       "5"
      ]
     },
     "execution_count": 23,
     "metadata": {},
     "output_type": "execute_result"
    }
   ],
   "source": [
    "np.argmax(a)"
   ]
  },
  {
   "cell_type": "code",
   "execution_count": 31,
   "metadata": {},
   "outputs": [],
   "source": [
    "aa = list(zip(np.where(a==a.max())[0], np.where(a==a.max())[1]))"
   ]
  },
  {
   "cell_type": "code",
   "execution_count": 35,
   "metadata": {},
   "outputs": [
    {
     "data": {
      "text/plain": [
       "2"
      ]
     },
     "execution_count": 35,
     "metadata": {},
     "output_type": "execute_result"
    }
   ],
   "source": [
    "aa[0][1]"
   ]
  },
  {
   "cell_type": "code",
   "execution_count": null,
   "metadata": {},
   "outputs": [],
   "source": []
  }
 ],
 "metadata": {
  "kernelspec": {
   "display_name": "Python 3",
   "language": "python",
   "name": "python3"
  },
  "language_info": {
   "codemirror_mode": {
    "name": "ipython",
    "version": 3
   },
   "file_extension": ".py",
   "mimetype": "text/x-python",
   "name": "python",
   "nbconvert_exporter": "python",
   "pygments_lexer": "ipython3",
   "version": "3.7.0"
  },
  "varInspector": {
   "cols": {
    "lenName": 16,
    "lenType": 16,
    "lenVar": 40
   },
   "kernels_config": {
    "python": {
     "delete_cmd_postfix": "",
     "delete_cmd_prefix": "del ",
     "library": "var_list.py",
     "varRefreshCmd": "print(var_dic_list())"
    },
    "r": {
     "delete_cmd_postfix": ") ",
     "delete_cmd_prefix": "rm(",
     "library": "var_list.r",
     "varRefreshCmd": "cat(var_dic_list()) "
    }
   },
   "types_to_exclude": [
    "module",
    "function",
    "builtin_function_or_method",
    "instance",
    "_Feature"
   ],
   "window_display": false
  }
 },
 "nbformat": 4,
 "nbformat_minor": 2
}
